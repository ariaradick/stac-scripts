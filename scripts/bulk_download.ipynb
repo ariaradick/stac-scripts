{
 "cells": [
  {
   "cell_type": "code",
   "execution_count": 24,
   "id": "1ac2e81a",
   "metadata": {},
   "outputs": [],
   "source": [
    "import sys,os\n",
    "import json\n",
    "import requests\n",
    "import numpy as np\n",
    "import pandas as pd\n",
    "from pystac_client import Client\n",
    "cat_url = \"http://localhost:8080\"\n",
    "cat_client = Client.open(cat_url)\n",
    "intake_cat = \"/home/aradick/Documents/spear-flp/catalog_blue.csv\""
   ]
  },
  {
   "cell_type": "code",
   "execution_count": null,
   "id": "44caf1c9",
   "metadata": {},
   "outputs": [],
   "source": [
    "def search(url: str, **kwargs):\n",
    "    r = requests.get(url+\"/search\", params=search)\n",
    "    return r.json[\"features\"]\n",
    "\n",
    "def get_paths(items):\n",
    "    paths = []\n",
    "    for x in items:\n",
    "        for a in x[\"assets\"].values():\n",
    "            paths.append(a[\"href\"])\n",
    "    return paths\n",
    "\n",
    "def save_paths(output_name, paths):\n",
    "    df2 = pd.DataFrame({\"source\" : paths, \"dest\" : paths})\n",
    "    df2.to_csv(\"my_search.txt\", sep=' ', index=False, header=False)"
   ]
  },
  {
   "cell_type": "code",
   "execution_count": 34,
   "id": "c71cc15b",
   "metadata": {},
   "outputs": [],
   "source": [
    "def get_paths_requests(url: str, search: dict):\n",
    "    paths = []\n",
    "    r = requests.get(url+\"/search\", params=search)\n",
    "    for x in r.json()[\"features\"]:\n",
    "        for a in x[\"assets\"].values():\n",
    "            paths.append(a[\"href\"])\n",
    "    return paths\n",
    "\n",
    "def get_paths_pystac(cat: Client, **kwargs):\n",
    "    paths = []\n",
    "    s = cat.search(**kwargs)\n",
    "    for i in s.items():\n",
    "        for a in i.assets.values():\n",
    "            paths.append(a.href)\n",
    "    return paths\n",
    "\n",
    "def get_paths_df(df, **kwargs):\n",
    "    truths = np.ones(len(df.index), dtype=bool)\n",
    "    for (k,v) in kwargs.items():\n",
    "        truths &= (df[k] == v)\n",
    "    return df.loc[truths, 'path']\n",
    "\n",
    "def get_paths_intake(cat_path: str, **kwargs):\n",
    "    df = pd.read_csv(cat_path)\n",
    "    return get_paths_df(df, **kwargs)"
   ]
  },
  {
   "cell_type": "code",
   "execution_count": 21,
   "id": "c3fd809d",
   "metadata": {},
   "outputs": [
    {
     "name": "stdout",
     "output_type": "stream",
     "text": [
      "24.6 ms ± 4.18 ms per loop (mean ± std. dev. of 7 runs, 10 loops each)\n"
     ]
    }
   ],
   "source": [
    "%timeit get_paths_requests(cat_url, {'filter': \"variable_id='snow'\"})"
   ]
  },
  {
   "cell_type": "code",
   "execution_count": 20,
   "id": "ce4e913f",
   "metadata": {},
   "outputs": [
    {
     "name": "stdout",
     "output_type": "stream",
     "text": [
      "32.4 ms ± 2.26 ms per loop (mean ± std. dev. of 7 runs, 10 loops each)\n"
     ]
    }
   ],
   "source": [
    "%timeit get_paths_pystac(cat_client, filter=\"variable_id='snow'\")"
   ]
  },
  {
   "cell_type": "code",
   "execution_count": 37,
   "id": "c58a194b",
   "metadata": {},
   "outputs": [
    {
     "name": "stdout",
     "output_type": "stream",
     "text": [
      "443 μs ± 2.17 μs per loop (mean ± std. dev. of 7 runs, 1,000 loops each)\n"
     ]
    }
   ],
   "source": [
    "cat_df = pd.read_csv(\"/home/aradick/Documents/spear-flp/catalog_blue.csv\")\n",
    "%timeit get_paths_df(cat_df, variable_id='snow')"
   ]
  },
  {
   "cell_type": "code",
   "execution_count": 35,
   "id": "4050a9d6",
   "metadata": {},
   "outputs": [
    {
     "name": "stdout",
     "output_type": "stream",
     "text": [
      "14.5 ms ± 169 μs per loop (mean ± std. dev. of 7 runs, 100 loops each)\n"
     ]
    }
   ],
   "source": [
    "%timeit get_paths_intake(intake_cat, variable_id='snow')"
   ]
  }
 ],
 "metadata": {
  "kernelspec": {
   "display_name": "base",
   "language": "python",
   "name": "python3"
  },
  "language_info": {
   "codemirror_mode": {
    "name": "ipython",
    "version": 3
   },
   "file_extension": ".py",
   "mimetype": "text/x-python",
   "name": "python",
   "nbconvert_exporter": "python",
   "pygments_lexer": "ipython3",
   "version": "undefined.undefined.undefined"
  }
 },
 "nbformat": 4,
 "nbformat_minor": 5
}
